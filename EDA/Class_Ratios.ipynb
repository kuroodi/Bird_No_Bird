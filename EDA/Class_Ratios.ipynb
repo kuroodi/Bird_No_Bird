{
 "cells": [
  {
   "cell_type": "markdown",
   "metadata": {},
   "source": [
    "# Class Ratios\n",
    "look into each data set and see the class ratios.\n",
    "\n",
    "- Positive Class --> Bird Chirped\n",
    "- Negative Class --> No Chirped \n",
    "\n",
    "<br>"
   ]
  },
  {
   "cell_type": "code",
   "execution_count": 9,
   "metadata": {},
   "outputs": [],
   "source": [
    "import numpy as np\n",
    "import pandas as pd\n",
    "\n",
    "birdVox_Filepath = \"../data/BirdVox_Label.csv\"\n",
    "FreeField_Filepath = \"../data/FreeField_Labels.csv\""
   ]
  },
  {
   "cell_type": "markdown",
   "metadata": {},
   "source": [
    "### BirdVox Project"
   ]
  },
  {
   "cell_type": "code",
   "execution_count": 10,
   "metadata": {},
   "outputs": [],
   "source": [
    "#read in label data\n",
    "birdVox_df = pd.read_csv(birdVox_Filepath)"
   ]
  },
  {
   "cell_type": "code",
   "execution_count": 11,
   "metadata": {},
   "outputs": [
    {
     "data": {
      "text/html": [
       "<div>\n",
       "<style>\n",
       "    .dataframe thead tr:only-child th {\n",
       "        text-align: right;\n",
       "    }\n",
       "\n",
       "    .dataframe thead th {\n",
       "        text-align: left;\n",
       "    }\n",
       "\n",
       "    .dataframe tbody tr th {\n",
       "        vertical-align: top;\n",
       "    }\n",
       "</style>\n",
       "<table border=\"1\" class=\"dataframe\">\n",
       "  <thead>\n",
       "    <tr style=\"text-align: right;\">\n",
       "      <th></th>\n",
       "      <th>itemid</th>\n",
       "      <th>datasetid</th>\n",
       "      <th>hasbird</th>\n",
       "    </tr>\n",
       "  </thead>\n",
       "  <tbody>\n",
       "    <tr>\n",
       "      <th>0</th>\n",
       "      <td>00053d90-e4b9-4045-a2f1-f39efc90cfa9</td>\n",
       "      <td>BirdVox-DCASE-20k</td>\n",
       "      <td>1</td>\n",
       "    </tr>\n",
       "    <tr>\n",
       "      <th>1</th>\n",
       "      <td>000db435-a40f-4ad9-a74e-d1af284d2c44</td>\n",
       "      <td>BirdVox-DCASE-20k</td>\n",
       "      <td>0</td>\n",
       "    </tr>\n",
       "    <tr>\n",
       "      <th>2</th>\n",
       "      <td>001059c0-e04f-42fc-a8e2-11aad24dc6fb</td>\n",
       "      <td>BirdVox-DCASE-20k</td>\n",
       "      <td>1</td>\n",
       "    </tr>\n",
       "    <tr>\n",
       "      <th>3</th>\n",
       "      <td>00106202-f61e-467d-a80f-070d90421952</td>\n",
       "      <td>BirdVox-DCASE-20k</td>\n",
       "      <td>0</td>\n",
       "    </tr>\n",
       "    <tr>\n",
       "      <th>4</th>\n",
       "      <td>00129593-77ca-40b2-a512-75d178071250</td>\n",
       "      <td>BirdVox-DCASE-20k</td>\n",
       "      <td>0</td>\n",
       "    </tr>\n",
       "  </tbody>\n",
       "</table>\n",
       "</div>"
      ],
      "text/plain": [
       "                                 itemid          datasetid  hasbird\n",
       "0  00053d90-e4b9-4045-a2f1-f39efc90cfa9  BirdVox-DCASE-20k        1\n",
       "1  000db435-a40f-4ad9-a74e-d1af284d2c44  BirdVox-DCASE-20k        0\n",
       "2  001059c0-e04f-42fc-a8e2-11aad24dc6fb  BirdVox-DCASE-20k        1\n",
       "3  00106202-f61e-467d-a80f-070d90421952  BirdVox-DCASE-20k        0\n",
       "4  00129593-77ca-40b2-a512-75d178071250  BirdVox-DCASE-20k        0"
      ]
     },
     "execution_count": 11,
     "metadata": {},
     "output_type": "execute_result"
    }
   ],
   "source": [
    "#lets see how things look...\n",
    "birdVox_df.head()"
   ]
  },
  {
   "cell_type": "markdown",
   "metadata": {},
   "source": [
    "***Lets take a look at the class ratio!***"
   ]
  },
  {
   "cell_type": "code",
   "execution_count": 16,
   "metadata": {},
   "outputs": [
    {
     "name": "stdout",
     "output_type": "stream",
     "text": [
      "Total Number of Data Points: 20000\n",
      "Number of Positive Cases: 10017\n",
      "Number of Negative Cases: 9983\n",
      "Ratio of Positive/Negative: 0.50085\n"
     ]
    }
   ],
   "source": [
    "#value_counts() will tell his how many unique values there are in 'hasbird'\n",
    "vox_has_bird, vox_no_bird = birdVox_df['hasbird'].value_counts()\n",
    "vox_total = len(birdVox_df)\n",
    "\n",
    "#print out class ratio info\n",
    "print(\"Total Number of Data Points: {}\".format(vox_total))\n",
    "print(\"Number of Positive Cases: {}\".format(vox_has_bird))\n",
    "print(\"Number of Negative Cases: {}\".format(vox_no_bird))\n",
    "print(\"Ratio of Positive/Negative: {}\".format(vox_has_bird/vox_total))"
   ]
  },
  {
   "cell_type": "markdown",
   "metadata": {},
   "source": [
    "### FreeField Project"
   ]
  },
  {
   "cell_type": "code",
   "execution_count": 13,
   "metadata": {},
   "outputs": [],
   "source": [
    "#read in label data\n",
    "FreeField_df = pd.read_csv(FreeField_Filepath)"
   ]
  },
  {
   "cell_type": "code",
   "execution_count": 14,
   "metadata": {},
   "outputs": [
    {
     "data": {
      "text/html": [
       "<div>\n",
       "<style>\n",
       "    .dataframe thead tr:only-child th {\n",
       "        text-align: right;\n",
       "    }\n",
       "\n",
       "    .dataframe thead th {\n",
       "        text-align: left;\n",
       "    }\n",
       "\n",
       "    .dataframe tbody tr th {\n",
       "        vertical-align: top;\n",
       "    }\n",
       "</style>\n",
       "<table border=\"1\" class=\"dataframe\">\n",
       "  <thead>\n",
       "    <tr style=\"text-align: right;\">\n",
       "      <th></th>\n",
       "      <th>itemid</th>\n",
       "      <th>hasbird</th>\n",
       "    </tr>\n",
       "  </thead>\n",
       "  <tbody>\n",
       "    <tr>\n",
       "      <th>0</th>\n",
       "      <td>64486</td>\n",
       "      <td>0</td>\n",
       "    </tr>\n",
       "    <tr>\n",
       "      <th>1</th>\n",
       "      <td>2525</td>\n",
       "      <td>0</td>\n",
       "    </tr>\n",
       "    <tr>\n",
       "      <th>2</th>\n",
       "      <td>44981</td>\n",
       "      <td>0</td>\n",
       "    </tr>\n",
       "    <tr>\n",
       "      <th>3</th>\n",
       "      <td>101323</td>\n",
       "      <td>0</td>\n",
       "    </tr>\n",
       "    <tr>\n",
       "      <th>4</th>\n",
       "      <td>165746</td>\n",
       "      <td>0</td>\n",
       "    </tr>\n",
       "  </tbody>\n",
       "</table>\n",
       "</div>"
      ],
      "text/plain": [
       "   itemid  hasbird\n",
       "0   64486        0\n",
       "1    2525        0\n",
       "2   44981        0\n",
       "3  101323        0\n",
       "4  165746        0"
      ]
     },
     "execution_count": 14,
     "metadata": {},
     "output_type": "execute_result"
    }
   ],
   "source": [
    "#lets see how things look...\n",
    "FreeField_df.head()"
   ]
  },
  {
   "cell_type": "markdown",
   "metadata": {},
   "source": [
    "***Lets take a look at the class ratio!***"
   ]
  },
  {
   "cell_type": "code",
   "execution_count": 17,
   "metadata": {},
   "outputs": [
    {
     "name": "stdout",
     "output_type": "stream",
     "text": [
      "Total Number of Data Points: 7690\n",
      "Number of Positive Cases: 5755\n",
      "Number of Negative Cases: 1935\n",
      "Ratio of Positive/Negative: 0.7483745123537061\n"
     ]
    }
   ],
   "source": [
    "#value_counts() will tell his how many unique values there are in 'hasbird'\n",
    "ff_has_bird, ff_no_bird = FreeField_df['hasbird'].value_counts()\n",
    "ff_total = len(FreeField_df)\n",
    "\n",
    "#print out class ratio info\n",
    "print(\"Total Number of Data Points: {}\".format(ff_total))\n",
    "print(\"Number of Positive Cases: {}\".format(ff_has_bird))\n",
    "print(\"Number of Negative Cases: {}\".format(ff_no_bird))\n",
    "print(\"Ratio of Positive/Negative: {}\".format(ff_has_bird/ff_total))"
   ]
  },
  {
   "cell_type": "code",
   "execution_count": null,
   "metadata": {},
   "outputs": [],
   "source": []
  },
  {
   "cell_type": "code",
   "execution_count": null,
   "metadata": {},
   "outputs": [],
   "source": []
  }
 ],
 "metadata": {
  "kernelspec": {
   "display_name": "Python 3",
   "language": "python",
   "name": "python3"
  },
  "language_info": {
   "codemirror_mode": {
    "name": "ipython",
    "version": 3
   },
   "file_extension": ".py",
   "mimetype": "text/x-python",
   "name": "python",
   "nbconvert_exporter": "python",
   "pygments_lexer": "ipython3",
   "version": "3.6.5"
  }
 },
 "nbformat": 4,
 "nbformat_minor": 2
}
